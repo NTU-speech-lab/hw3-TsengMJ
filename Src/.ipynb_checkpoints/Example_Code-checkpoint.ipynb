{
 "cells": [
  {
   "cell_type": "code",
   "execution_count": 1,
   "metadata": {},
   "outputs": [],
   "source": [
    "# Import需要的套件\n",
    "import os\n",
    "import numpy as np\n",
    "import cv2\n",
    "import torch\n",
    "import torch.nn as nn\n",
    "import torchvision.transforms as transforms\n",
    "import pandas as pd\n",
    "from torch.utils.data import DataLoader, Dataset\n",
    "import time"
   ]
  },
  {
   "cell_type": "code",
   "execution_count": 2,
   "metadata": {},
   "outputs": [],
   "source": [
    "def readfile(path, label):\n",
    "    # label 是一個 boolean variable，代表需不需要回傳 y 值\n",
    "    image_dir = sorted(os.listdir(path))\n",
    "    x = np.zeros((len(image_dir), 128, 128, 3), dtype=np.uint8)\n",
    "    y = np.zeros((len(image_dir)), dtype=np.uint8)\n",
    "    for i, file in enumerate(image_dir):\n",
    "        img = cv2.imread(os.path.join(path, file))\n",
    "        x[i, :, :] = cv2.resize(img,(128, 128))\n",
    "        if label:\n",
    "            y[i] = int(file.split(\"_\")[0])\n",
    "    if label:\n",
    "        return x, y\n",
    "    else:\n",
    "        return x"
   ]
  },
  {
   "cell_type": "code",
   "execution_count": 3,
   "metadata": {},
   "outputs": [
    {
     "name": "stdout",
     "output_type": "stream",
     "text": [
      "Reading data\n",
      "Size of training data = 9866\n",
      "Size of validation data = 3430\n",
      "Size of Testing data = 3347\n"
     ]
    }
   ],
   "source": [
    "#分別將 training set、validation set、testing set 用 readfile 函式讀進來\n",
    "workspace_dir = '../Data/food-11'\n",
    "print(\"Reading data\")\n",
    "train_x, train_y = readfile(os.path.join(workspace_dir, \"training\"), True)\n",
    "print(\"Size of training data = {}\".format(len(train_x)))\n",
    "val_x, val_y = readfile(os.path.join(workspace_dir, \"validation\"), True)\n",
    "print(\"Size of validation data = {}\".format(len(val_x)))\n",
    "test_x = readfile(os.path.join(workspace_dir, \"testing\"), False)\n",
    "print(\"Size of Testing data = {}\".format(len(test_x)))"
   ]
  },
  {
   "cell_type": "code",
   "execution_count": 4,
   "metadata": {},
   "outputs": [],
   "source": [
    "#training 時做 data augmentation\n",
    "train_transform = transforms.Compose([\n",
    "    transforms.ToPILImage(),\n",
    "    transforms.RandomHorizontalFlip(), #隨機將圖片水平翻轉\n",
    "    transforms.RandomRotation(15), #隨機旋轉圖片\n",
    "    transforms.ToTensor(), #將圖片轉成 Tensor，並把數值normalize到[0,1](data normalization)\n",
    "])\n",
    "#testing 時不需做 data augmentation\n",
    "test_transform = transforms.Compose([\n",
    "    transforms.ToPILImage(),                                    \n",
    "    transforms.ToTensor(),\n",
    "])\n",
    "class ImgDataset(Dataset):\n",
    "    def __init__(self, x, y=None, transform=None):\n",
    "        self.x = x\n",
    "        # label is required to be a LongTensor\n",
    "        self.y = y\n",
    "        if y is not None:\n",
    "            self.y = torch.LongTensor(y)\n",
    "        self.transform = transform\n",
    "    def __len__(self):\n",
    "        return len(self.x)\n",
    "    def __getitem__(self, index):\n",
    "        X = self.x[index]\n",
    "        if self.transform is not None:\n",
    "            X = self.transform(X)\n",
    "        if self.y is not None:\n",
    "            Y = self.y[index]\n",
    "            return X, Y\n",
    "        else:\n",
    "            return X"
   ]
  },
  {
   "cell_type": "code",
   "execution_count": 6,
   "metadata": {},
   "outputs": [],
   "source": [
    "batch_size = 128\n",
    "train_set = ImgDataset(train_x, train_y, train_transform)\n",
    "val_set = ImgDataset(val_x, val_y, test_transform)\n",
    "train_loader = DataLoader(train_set, batch_size=batch_size, shuffle=True)\n",
    "val_loader = DataLoader(val_set, batch_size=batch_size, shuffle=False)"
   ]
  },
  {
   "cell_type": "code",
   "execution_count": 5,
   "metadata": {},
   "outputs": [],
   "source": [
    "class Classifier(nn.Module):\n",
    "    def __init__(self):\n",
    "        super(Classifier, self).__init__()\n",
    "        #torch.nn.Conv2d(in_channels, out_channels, kernel_size, stride, padding)\n",
    "        #torch.nn.MaxPool2d(kernel_size, stride, padding)\n",
    "        #input 維度 [3, 128, 128]\n",
    "        self.cnn = nn.Sequential(\n",
    "            nn.Conv2d(3, 64, 3, 1, 1),  # [64, 128, 128]\n",
    "            nn.BatchNorm2d(64),\n",
    "            nn.ReLU(),\n",
    "            nn.MaxPool2d(2, 2, 0),      # [64, 64, 64]\n",
    "\n",
    "            nn.Conv2d(64, 128, 3, 1, 1), # [128, 64, 64]\n",
    "            nn.BatchNorm2d(128),\n",
    "            nn.ReLU(),\n",
    "            nn.MaxPool2d(2, 2, 0),      # [128, 32, 32]\n",
    "\n",
    "            nn.Conv2d(128, 256, 3, 1, 1), # [256, 32, 32]\n",
    "            nn.BatchNorm2d(256),\n",
    "            nn.ReLU(),\n",
    "            nn.MaxPool2d(2, 2, 0),      # [256, 16, 16]\n",
    "\n",
    "            nn.Conv2d(256, 512, 3, 1, 1), # [512, 16, 16]\n",
    "            nn.BatchNorm2d(512),\n",
    "            nn.ReLU(),\n",
    "            nn.MaxPool2d(2, 2, 0),       # [512, 8, 8]\n",
    "            \n",
    "            nn.Conv2d(512, 512, 3, 1, 1), # [512, 8, 8]\n",
    "            nn.BatchNorm2d(512),\n",
    "            nn.ReLU(),\n",
    "            nn.MaxPool2d(2, 2, 0),       # [512, 4, 4]\n",
    "        )\n",
    "        self.fc = nn.Sequential(\n",
    "            nn.Linear(512*4*4, 1024),\n",
    "            nn.ReLU(),\n",
    "            nn.Linear(1024, 512),\n",
    "            nn.ReLU(),\n",
    "            nn.Linear(512, 11)\n",
    "        )\n",
    "\n",
    "    def forward(self, x):\n",
    "        out = self.cnn(x)\n",
    "        out = out.view(out.size()[0], -1)\n",
    "        return self.fc(out)"
   ]
  },
  {
   "cell_type": "markdown",
   "metadata": {},
   "source": [
    "## 使用training set訓練，並使用validation set尋找好的參數"
   ]
  },
  {
   "cell_type": "code",
   "execution_count": 7,
   "metadata": {},
   "outputs": [
    {
     "name": "stdout",
     "output_type": "stream",
     "text": [
      "[001/030] 22.30 sec(s) Train Acc: 0.230083 Loss: 0.018138 | Val Acc: 0.293878 loss: 0.015704\n",
      "[002/030] 22.31 sec(s) Train Acc: 0.327184 Loss: 0.014997 | Val Acc: 0.353936 loss: 0.014553\n",
      "[003/030] 22.30 sec(s) Train Acc: 0.389013 Loss: 0.013656 | Val Acc: 0.376968 loss: 0.014276\n",
      "[004/030] 22.31 sec(s) Train Acc: 0.433712 Loss: 0.012792 | Val Acc: 0.390087 loss: 0.014837\n",
      "[005/030] 22.03 sec(s) Train Acc: 0.474559 Loss: 0.011887 | Val Acc: 0.446356 loss: 0.012610\n",
      "[006/030] 22.11 sec(s) Train Acc: 0.508514 Loss: 0.011100 | Val Acc: 0.471429 loss: 0.012360\n",
      "[007/030] 22.22 sec(s) Train Acc: 0.540442 Loss: 0.010575 | Val Acc: 0.401166 loss: 0.014614\n",
      "[008/030] 23.02 sec(s) Train Acc: 0.556659 Loss: 0.010027 | Val Acc: 0.499125 loss: 0.011958\n",
      "[009/030] 22.84 sec(s) Train Acc: 0.595682 Loss: 0.009205 | Val Acc: 0.561224 loss: 0.010353\n",
      "[010/030] 21.84 sec(s) Train Acc: 0.617069 Loss: 0.008789 | Val Acc: 0.546064 loss: 0.011148\n",
      "[011/030] 21.85 sec(s) Train Acc: 0.634806 Loss: 0.008354 | Val Acc: 0.522741 loss: 0.011366\n",
      "[012/030] 21.60 sec(s) Train Acc: 0.640989 Loss: 0.008201 | Val Acc: 0.563265 loss: 0.010490\n",
      "[013/030] 21.61 sec(s) Train Acc: 0.668559 Loss: 0.007615 | Val Acc: 0.592420 loss: 0.009687\n",
      "[014/030] 21.65 sec(s) Train Acc: 0.684472 Loss: 0.007294 | Val Acc: 0.609329 loss: 0.009094\n",
      "[015/030] 21.88 sec(s) Train Acc: 0.705453 Loss: 0.006677 | Val Acc: 0.627697 loss: 0.008965\n",
      "[016/030] 21.97 sec(s) Train Acc: 0.718934 Loss: 0.006410 | Val Acc: 0.631778 loss: 0.008921\n",
      "[017/030] 21.88 sec(s) Train Acc: 0.735658 Loss: 0.006114 | Val Acc: 0.573761 loss: 0.010889\n",
      "[018/030] 21.63 sec(s) Train Acc: 0.737685 Loss: 0.005976 | Val Acc: 0.600875 loss: 0.009755\n",
      "[019/030] 21.75 sec(s) Train Acc: 0.745185 Loss: 0.005695 | Val Acc: 0.622449 loss: 0.009372\n",
      "[020/030] 22.33 sec(s) Train Acc: 0.766471 Loss: 0.005243 | Val Acc: 0.616035 loss: 0.009979\n",
      "[021/030] 21.91 sec(s) Train Acc: 0.782384 Loss: 0.004815 | Val Acc: 0.645773 loss: 0.009304\n",
      "[022/030] 22.12 sec(s) Train Acc: 0.801135 Loss: 0.004567 | Val Acc: 0.600875 loss: 0.011162\n",
      "[023/030] 21.97 sec(s) Train Acc: 0.797689 Loss: 0.004616 | Val Acc: 0.601166 loss: 0.011783\n",
      "[024/030] 22.18 sec(s) Train Acc: 0.812285 Loss: 0.004241 | Val Acc: 0.655394 loss: 0.009262\n",
      "[025/030] 22.73 sec(s) Train Acc: 0.828401 Loss: 0.003861 | Val Acc: 0.467347 loss: 0.020105\n",
      "[026/030] 21.95 sec(s) Train Acc: 0.818467 Loss: 0.004063 | Val Acc: 0.659184 loss: 0.009779\n",
      "[027/030] 22.18 sec(s) Train Acc: 0.843199 Loss: 0.003488 | Val Acc: 0.654810 loss: 0.009755\n",
      "[028/030] 22.20 sec(s) Train Acc: 0.866917 Loss: 0.003033 | Val Acc: 0.634985 loss: 0.011785\n",
      "[029/030] 22.53 sec(s) Train Acc: 0.872998 Loss: 0.002848 | Val Acc: 0.646356 loss: 0.011935\n",
      "[030/030] 22.64 sec(s) Train Acc: 0.866004 Loss: 0.002963 | Val Acc: 0.655102 loss: 0.011257\n"
     ]
    }
   ],
   "source": [
    "model = Classifier().cuda()\n",
    "loss = nn.CrossEntropyLoss() # 因為是 classification task，所以 loss 使用 CrossEntropyLoss\n",
    "optimizer = torch.optim.Adam(model.parameters(), lr=0.001) # optimizer 使用 Adam\n",
    "num_epoch = 30\n",
    "\n",
    "for epoch in range(num_epoch):\n",
    "    epoch_start_time = time.time()\n",
    "    train_acc = 0.0\n",
    "    train_loss = 0.0\n",
    "    val_acc = 0.0\n",
    "    val_loss = 0.0\n",
    "\n",
    "    model.train() # 確保 model 是在 train model (開啟 Dropout 等...)\n",
    "    for i, data in enumerate(train_loader):\n",
    "        optimizer.zero_grad() # 用 optimizer 將 model 參數的 gradient 歸零\n",
    "        train_pred = model(data[0].cuda()) # 利用 model 得到預測的機率分佈 這邊實際上就是去呼叫 model 的 forward 函數\n",
    "        batch_loss = loss(train_pred, data[1].cuda()) # 計算 loss （注意 prediction 跟 label 必須同時在 CPU 或是 GPU 上）\n",
    "        batch_loss.backward() # 利用 back propagation 算出每個參數的 gradient\n",
    "        optimizer.step() # 以 optimizer 用 gradient 更新參數值\n",
    "\n",
    "        train_acc += np.sum(np.argmax(train_pred.cpu().data.numpy(), axis=1) == data[1].numpy())\n",
    "        train_loss += batch_loss.item()\n",
    "    \n",
    "    model.eval()\n",
    "    with torch.no_grad():\n",
    "        for i, data in enumerate(val_loader):\n",
    "            val_pred = model(data[0].cuda())\n",
    "            batch_loss = loss(val_pred, data[1].cuda())\n",
    "\n",
    "            val_acc += np.sum(np.argmax(val_pred.cpu().data.numpy(), axis=1) == data[1].numpy())\n",
    "            val_loss += batch_loss.item()\n",
    "\n",
    "        #將結果 print 出來\n",
    "        print('[%03d/%03d] %2.2f sec(s) Train Acc: %3.6f Loss: %3.6f | Val Acc: %3.6f loss: %3.6f' % \\\n",
    "            (epoch + 1, num_epoch, time.time()-epoch_start_time, \\\n",
    "             train_acc/train_set.__len__(), train_loss/train_set.__len__(), val_acc/val_set.__len__(), val_loss/val_set.__len__()))"
   ]
  },
  {
   "cell_type": "markdown",
   "metadata": {},
   "source": [
    "## 得到好的參數後，我們使用training set和validation set共同訓練（資料量變多，模型效果較好）"
   ]
  },
  {
   "cell_type": "code",
   "execution_count": 8,
   "metadata": {},
   "outputs": [],
   "source": [
    "train_val_x = np.concatenate((train_x, val_x), axis=0)\n",
    "train_val_y = np.concatenate((train_y, val_y), axis=0)\n",
    "train_val_set = ImgDataset(train_val_x, train_val_y, train_transform)\n",
    "train_val_loader = DataLoader(train_val_set, batch_size=batch_size, shuffle=True)"
   ]
  },
  {
   "cell_type": "code",
   "execution_count": 9,
   "metadata": {},
   "outputs": [
    {
     "name": "stdout",
     "output_type": "stream",
     "text": [
      "[001/030] 27.86 sec(s) Train Acc: 0.256769 Loss: 0.017239\n",
      "[002/030] 28.27 sec(s) Train Acc: 0.370563 Loss: 0.013950\n",
      "[003/030] 27.39 sec(s) Train Acc: 0.436146 Loss: 0.012635\n",
      "[004/030] 29.01 sec(s) Train Acc: 0.487741 Loss: 0.011516\n",
      "[005/030] 27.55 sec(s) Train Acc: 0.530159 Loss: 0.010445\n",
      "[006/030] 27.35 sec(s) Train Acc: 0.565057 Loss: 0.009762\n",
      "[007/030] 28.09 sec(s) Train Acc: 0.602211 Loss: 0.009005\n",
      "[008/030] 27.57 sec(s) Train Acc: 0.627407 Loss: 0.008470\n",
      "[009/030] 27.54 sec(s) Train Acc: 0.651775 Loss: 0.007892\n",
      "[010/030] 27.37 sec(s) Train Acc: 0.666892 Loss: 0.007457\n",
      "[011/030] 27.80 sec(s) Train Acc: 0.702392 Loss: 0.006894\n",
      "[012/030] 28.52 sec(s) Train Acc: 0.707055 Loss: 0.006541\n",
      "[013/030] 27.36 sec(s) Train Acc: 0.728264 Loss: 0.006218\n",
      "[014/030] 28.23 sec(s) Train Acc: 0.744510 Loss: 0.005821\n",
      "[015/030] 27.48 sec(s) Train Acc: 0.753008 Loss: 0.005504\n",
      "[016/030] 28.04 sec(s) Train Acc: 0.757446 Loss: 0.005398\n",
      "[017/030] 27.47 sec(s) Train Acc: 0.777527 Loss: 0.005022\n",
      "[018/030] 27.44 sec(s) Train Acc: 0.789185 Loss: 0.004680\n",
      "[019/030] 27.36 sec(s) Train Acc: 0.806182 Loss: 0.004353\n",
      "[020/030] 27.45 sec(s) Train Acc: 0.815057 Loss: 0.004132\n",
      "[021/030] 27.44 sec(s) Train Acc: 0.832581 Loss: 0.003749\n",
      "[022/030] 27.40 sec(s) Train Acc: 0.844690 Loss: 0.003503\n",
      "[023/030] 27.61 sec(s) Train Acc: 0.854994 Loss: 0.003267\n",
      "[024/030] 27.66 sec(s) Train Acc: 0.862064 Loss: 0.003052\n",
      "[025/030] 27.74 sec(s) Train Acc: 0.870863 Loss: 0.002875\n",
      "[026/030] 27.57 sec(s) Train Acc: 0.876429 Loss: 0.002678\n",
      "[027/030] 27.73 sec(s) Train Acc: 0.888162 Loss: 0.002427\n",
      "[028/030] 27.39 sec(s) Train Acc: 0.890569 Loss: 0.002405\n",
      "[029/030] 27.37 sec(s) Train Acc: 0.906588 Loss: 0.002113\n",
      "[030/030] 27.31 sec(s) Train Acc: 0.916591 Loss: 0.001897\n"
     ]
    }
   ],
   "source": [
    "model_best = Classifier().cuda()\n",
    "loss = nn.CrossEntropyLoss() # 因為是 classification task，所以 loss 使用 CrossEntropyLoss\n",
    "optimizer = torch.optim.Adam(model_best.parameters(), lr=0.001) # optimizer 使用 Adam\n",
    "num_epoch = 30\n",
    "\n",
    "for epoch in range(num_epoch):\n",
    "    epoch_start_time = time.time()\n",
    "    train_acc = 0.0\n",
    "    train_loss = 0.0\n",
    "\n",
    "    model_best.train()\n",
    "    for i, data in enumerate(train_val_loader):\n",
    "        optimizer.zero_grad()\n",
    "        train_pred = model_best(data[0].cuda())\n",
    "        batch_loss = loss(train_pred, data[1].cuda())\n",
    "        batch_loss.backward()\n",
    "        optimizer.step()\n",
    "\n",
    "        train_acc += np.sum(np.argmax(train_pred.cpu().data.numpy(), axis=1) == data[1].numpy())\n",
    "        train_loss += batch_loss.item()\n",
    "\n",
    "        #將結果 print 出來\n",
    "    print('[%03d/%03d] %2.2f sec(s) Train Acc: %3.6f Loss: %3.6f' % \\\n",
    "      (epoch + 1, num_epoch, time.time()-epoch_start_time, \\\n",
    "      train_acc/train_val_set.__len__(), train_loss/train_val_set.__len__()))"
   ]
  },
  {
   "cell_type": "code",
   "execution_count": null,
   "metadata": {},
   "outputs": [],
   "source": []
  },
  {
   "cell_type": "code",
   "execution_count": 10,
   "metadata": {},
   "outputs": [],
   "source": [
    "test_set = ImgDataset(test_x, transform=test_transform)\n",
    "test_loader = DataLoader(test_set, batch_size=batch_size, shuffle=False)"
   ]
  },
  {
   "cell_type": "code",
   "execution_count": 11,
   "metadata": {},
   "outputs": [],
   "source": [
    "model_best.eval()\n",
    "prediction = []\n",
    "with torch.no_grad():\n",
    "    for i, data in enumerate(test_loader):\n",
    "        test_pred = model_best(data.cuda())\n",
    "        test_label = np.argmax(test_pred.cpu().data.numpy(), axis=1)\n",
    "        for y in test_label:\n",
    "            prediction.append(y)"
   ]
  },
  {
   "cell_type": "code",
   "execution_count": 14,
   "metadata": {},
   "outputs": [],
   "source": [
    "#將結果寫入 csv 檔\n",
    "with open(\"../Output/predict.csv\", 'w') as f:\n",
    "    f.write('Id,Category\\n')\n",
    "    for i, y in  enumerate(prediction):\n",
    "        f.write('{},{}\\n'.format(i, y))"
   ]
  },
  {
   "cell_type": "code",
   "execution_count": null,
   "metadata": {},
   "outputs": [],
   "source": []
  }
 ],
 "metadata": {
  "kernelspec": {
   "display_name": "Python 3",
   "language": "python",
   "name": "python3"
  },
  "language_info": {
   "codemirror_mode": {
    "name": "ipython",
    "version": 3
   },
   "file_extension": ".py",
   "mimetype": "text/x-python",
   "name": "python",
   "nbconvert_exporter": "python",
   "pygments_lexer": "ipython3",
   "version": "3.6.9"
  }
 },
 "nbformat": 4,
 "nbformat_minor": 2
}
